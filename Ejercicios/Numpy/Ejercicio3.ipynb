import numpy as np


ejercicio3 = np.array([[9,1,2],[1,9,5],[2,5,9]]).reshape((1,9))

ejercicio3 = np.sort(ejercicio3, axis=1)
condition= ejercicio3<9
print(np.extract(condition, ejercicio3))
