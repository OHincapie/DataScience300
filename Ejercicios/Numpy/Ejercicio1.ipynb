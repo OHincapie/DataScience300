import numpy as np

#Mostrar el vector y guardarlo en archivo

vector = np.arange(5,6,0.2)
print(vector.tolist())
vector.tofile('datos.npy')
datos= np.fromfile('datos.npy')
datos
