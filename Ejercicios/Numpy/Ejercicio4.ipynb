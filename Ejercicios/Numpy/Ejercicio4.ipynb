import as np

matriz = np.array([[1,4,7], [2,5,8], [3,6,9]], dtype=int)
print(np.mean(matriz, axis=1))
print(np.mean(matriz, axis=0))
print(np.average(matriz,axis=1,weights=(7,8,9)))
