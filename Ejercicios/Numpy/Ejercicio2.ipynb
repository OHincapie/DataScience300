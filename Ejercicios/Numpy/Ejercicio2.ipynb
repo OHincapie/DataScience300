import numpy as np 

matriz = np.array([1,3,5],[11,9,7],[13,15,17]], dtype='int')
asc = np.sort(matriz, axis=1)
asc

#Conclusión: Ordena la matriz de menos a mayor y en caso de ser axis= None nos retorna un vector 1D
