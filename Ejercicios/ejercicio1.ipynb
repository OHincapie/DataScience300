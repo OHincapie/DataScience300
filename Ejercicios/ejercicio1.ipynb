import numpy as np

def ejercicio1 (arrayLista):
    arrayLista=np.sort(arrayLista)
    for i in arrayLista:
        if i>500:
            print('Numero ', i , 'es mayor a 500')
            break
        if i >150:
            continue
        if i % 5 == 0:
            print(i)

lista1= [14, 75, 150, 180, 145, 525, 50, 10, 56,55]
ejercicio1(lista1)
