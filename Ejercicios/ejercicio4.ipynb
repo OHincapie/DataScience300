import numpy as np

def ejercicio4(cantidad, numero):
  suma=0
  numero_aux=numero
  for i in range(0, cantidad): 
    suma += numero
    if(i == cantidad-1):
      print(numero, '=', suma)
    else:
      print(numero, end='+')

    numero = numero *10 +numero_aux
  print('La suma de la serie es: ', suma)

cantidad= int(input('Ingresa la cantidad de veces que se repetira la serie: '))
numero = int(input('Ingresa el número con el que quieres realizar la serie'))
ejercicio4(cantidad,numero)
