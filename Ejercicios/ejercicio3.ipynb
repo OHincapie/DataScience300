import numpy as np

def ejercicio3 (numero):
  for i in range(0,numero):
    for k in range(numero, 0, -1):
      print(k, end= ' ')
    numero= numero-1  
    print()

numero= int(input('Ingresa un número: '))
ejercicio3(numero)
