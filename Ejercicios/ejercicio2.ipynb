import numpy as np 

def ejercicio2 (numero):
  numero_aux=numero
  contador= 0
  while(numero != 0):
    numero = numero//10
    contador = contador +1
  print('El número', numero_aux, 'tiene', contador, 'digitos')  

numero = int(input('Ingresa un numero: '))
ejercicio2(numero) 
