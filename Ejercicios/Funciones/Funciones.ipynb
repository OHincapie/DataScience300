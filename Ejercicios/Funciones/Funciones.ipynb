{
  "nbformat": 4,
  "nbformat_minor": 0,
  "metadata": {
    "colab": {
      "name": "Funciones.ipynb",
      "provenance": [],
      "collapsed_sections": [],
      "include_colab_link": true
    },
    "kernelspec": {
      "name": "python3",
      "display_name": "Python 3"
    },
    "language_info": {
      "name": "python"
    }
  },
  "cells": [
    {
      "cell_type": "markdown",
      "metadata": {
        "id": "view-in-github",
        "colab_type": "text"
      },
      "source": [
        "<a href=\"https://colab.research.google.com/github/OHincapie/DataScience300/blob/main/Ejercicios/Funciones/Funciones.ipynb\" target=\"_parent\"><img src=\"https://colab.research.google.com/assets/colab-badge.svg\" alt=\"Open In Colab\"/></a>"
      ]
    },
    {
      "cell_type": "markdown",
      "metadata": {
        "id": "_XBLq0MTOhWu"
      },
      "source": [
        "# Ejercicio 1\n",
        "\n",
        "Escribir un programa para mostrar sólo los números de una lista (dada) que cumplan las condiciones siguientes ✈⏰♥⌛⛸🏀\n",
        "\n",
        "```lista = [14, 75, 150, 180, 145, 525, 50, 10, 56,55]```\n",
        "\n",
        "1. El número debe ser divisible por cinco 🙏\n",
        "2. Si el número es mayor que 150, sáltelo y pase al siguiente número 🫂\n",
        "3. Si el número es mayor que 500, paren el bucle 🔊"
      ]
    },
    {
      "cell_type": "code",
      "metadata": {
        "id": "KDaEy559chco"
      },
      "source": [
        ""
      ],
      "execution_count": null,
      "outputs": []
    },
    {
      "cell_type": "code",
      "metadata": {
        "colab": {
          "base_uri": "https://localhost:8080/"
        },
        "id": "89XU_as_J_zQ",
        "outputId": "a92374fc-aa28-4ae8-a027-57d4f3089a8a"
      },
      "source": [
        "import numpy as np\n",
        "\n",
        "def ejercicio1 (arrayLista):\n",
        "    arrayLista=np.sort(arrayLista)\n",
        "    for i in arrayLista:\n",
        "        if i>500:\n",
        "            print('Numero ', i , 'es mayor a 500')\n",
        "            break\n",
        "        if i >150:\n",
        "            continue\n",
        "        if i % 5 == 0:\n",
        "            print(i)\n",
        "\n",
        "lista1= [14, 75, 150, 180, 145, 525, 50, 10, 56,55]\n",
        "ejercicio1(lista1)\n"
      ],
      "execution_count": null,
      "outputs": [
        {
          "output_type": "stream",
          "name": "stdout",
          "text": [
            "10\n",
            "50\n",
            "55\n",
            "75\n",
            "145\n",
            "150\n",
            "Numero  525 es mayor a 500\n"
          ]
        }
      ]
    },
    {
      "cell_type": "markdown",
      "metadata": {
        "id": "Vy7igOV4P05F"
      },
      "source": [
        "# Ejercicio 2\n",
        "\n",
        "Escriba un programa para contar el número **entero** total de dígitos en un número usando un bucle while. ⚪❌💯👍⚡\n",
        "\n",
        "Por ejemplo, el número es 12345, por lo que la salida debe ser 5. 📷🥿🥲😕🔮"
      ]
    },
    {
      "cell_type": "code",
      "metadata": {
        "id": "pG6qSEScciVg",
        "colab": {
          "base_uri": "https://localhost:8080/"
        },
        "outputId": "2047a071-9ac8-44b6-c9be-f4a450ba35eb"
      },
      "source": [
        "def ejercicio2 (numero):\n",
        "  numero_aux=numero\n",
        "  contador= 0\n",
        "  while(numero != 0):\n",
        "    numero = numero//10\n",
        "    contador = contador +1\n",
        "  print('El número', numero_aux, 'tiene', contador, 'digitos')  \n",
        "\n",
        "numero = int(input('Ingresa un numero: '))\n",
        "ejercicio2(numero)    "
      ],
      "execution_count": null,
      "outputs": [
        {
          "output_type": "stream",
          "name": "stdout",
          "text": [
            "Ingresa un numero: 12345\n",
            "El número 12345 tiene 5 digitos\n"
          ]
        }
      ]
    },
    {
      "cell_type": "markdown",
      "metadata": {
        "id": "UQ1RHQk0Qam7"
      },
      "source": [
        "# Ejercicio 3\n",
        "\n",
        "Escriba un programa para usar en bucle para imprimir el siguiente patrón de números inverso. **Ayuda** *Pueden usar un loop anidado* ☣🙂🚒⛴🗃⛲\n",
        "\n",
        "```\n",
        "6 5 4 3 2 1\n",
        "5 4 3 2 1 \n",
        "4 3 2 1 \n",
        "3 2 1\n",
        "2 1 \n",
        "1\n",
        "```"
      ]
    },
    {
      "cell_type": "code",
      "metadata": {
        "id": "zOKon30RQbtb",
        "colab": {
          "base_uri": "https://localhost:8080/"
        },
        "outputId": "f7003c24-e9d9-4f4e-8990-cd6dc616e187"
      },
      "source": [
        "def ejercicio3 (numero):\n",
        "  for i in range(0,numero):\n",
        "    for k in range(numero, 0, -1):\n",
        "      print(k, end= ' ')\n",
        "    numero= numero-1  \n",
        "    print()\n",
        "\n",
        "numero= int(input('Ingresa un número: '))\n",
        "ejercicio3(numero)"
      ],
      "execution_count": null,
      "outputs": [
        {
          "output_type": "stream",
          "name": "stdout",
          "text": [
            "Ingresa un número: 4\n",
            "4 3 2 1 \n",
            "3 2 1 \n",
            "2 1 \n",
            "1 \n"
          ]
        }
      ]
    },
    {
      "cell_type": "markdown",
      "metadata": {
        "id": "IQhoIRbzSOTv"
      },
      "source": [
        "# Ejercicio 4\n",
        "\n",
        "Escriba un programa para calcular la suma de la siguiente serie hasta el n-ésimo término. 🧉👒😵🧭🈹🥸\n",
        "\n",
        "$$3+33+333+3333+33333+.....$$\n",
        "\n",
        "Por ejemplo, si n = 5 la serie se convertirá en 3 + 33 + 333 + 3333 + 33333 = 37035 🥸💵🐬⚓♊"
      ]
    },
    {
      "cell_type": "code",
      "metadata": {
        "id": "OwEnwVzvco6N",
        "colab": {
          "base_uri": "https://localhost:8080/"
        },
        "outputId": "8b74678b-f3fe-4578-e639-19dc00617e29"
      },
      "source": [
        "def ejercicio4(cantidad, numero):\n",
        "  suma=0\n",
        "  numero_aux=numero\n",
        "  for i in range(0, cantidad): \n",
        "    suma += numero\n",
        "    if(i == cantidad-1):\n",
        "      print(numero, '=', suma)\n",
        "    else:\n",
        "      print(numero, end='+')\n",
        "\n",
        "    numero = numero *10 +numero_aux\n",
        "  print('La suma de la serie es: ', suma)\n",
        "\n",
        "cantidad= int(input('Ingresa la cantidad de veces que se repetira la serie: '))\n",
        "numero = int(input('Ingresa el número con el que quieres realizar la serie'))\n",
        "ejercicio4(cantidad,numero)"
      ],
      "execution_count": null,
      "outputs": [
        {
          "output_type": "stream",
          "name": "stdout",
          "text": [
            "Ingresa la cantidad de veces que se repetira la serie: 5\n",
            "Ingresa el número con el que quieres realizar la serie2\n",
            "2+22+222+2222+22222 = 24690\n",
            "La suma de la serie es:  24690\n"
          ]
        }
      ]
    },
    {
      "cell_type": "markdown",
      "metadata": {
        "id": "H1B88LgXUJqZ"
      },
      "source": [
        "# Ejercicio 5\n",
        "\n",
        "Crear una función que se llama ```funcion_xy``` que tome como argumento una lista de **numeros enteros** (dada, ver mas abajo) y adicionalmente permita la posibilidad de incorporar parametros adicionales ```*args```y ```**kargs```. \n",
        "\n",
        "```lista=[2,1,3,5,4,7,9,8,6,10]```\n",
        "\n",
        "Se requiere que la funcion tenga las siguientes caracteristicas\n",
        "\n",
        "```*args```\n",
        "\n",
        "1. Ordene la lista de menor a mayor y la devuelva como salida.\n",
        "2. Extraiga y muestre solo los numeros pares\n",
        "3. Calcular la media recortada al 10% de la lista. Para eso pueden utilizar importar la siguiente librería:     \n",
        "```from scipy import stats```\n",
        "Y utilizar la función ```stats.trim_mean(lista, 0.1, axis=0)```\n",
        "\n",
        "```**kargs```\n",
        "\n",
        "1. ```reverse == True``` => Debera invertir la lista \n",
        "2. ```odd == True``` => retorna una lista con los nombres 'pares' e 'impares' para cada posicion\n",
        "3. ```filter == True``` => extraer los valores mayores a 4 y mostrarlos\n",
        "\n",
        "\n",
        "**Nota :** En todos los casos n olviden la importancia del return y traten de aplicar todos los conceptos que hemos visto para resolver de la manera más eficiente posible."
      ]
    },
    {
      "cell_type": "code",
      "metadata": {
        "id": "vRwZTH6kcrie"
      },
      "source": [
        ""
      ],
      "execution_count": null,
      "outputs": []
    }
  ]
}