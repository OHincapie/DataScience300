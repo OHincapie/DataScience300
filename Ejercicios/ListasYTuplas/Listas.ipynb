{
  "nbformat": 4,
  "nbformat_minor": 0,
  "metadata": {
    "colab": {
      "name": "Listas.ipynb",
      "provenance": [],
      "authorship_tag": "ABX9TyMwaz3IsZwesf6AkBsSeIG8",
      "include_colab_link": true
    },
    "kernelspec": {
      "name": "python3",
      "display_name": "Python 3"
    },
    "language_info": {
      "name": "python"
    }
  },
  "cells": [
    {
      "cell_type": "markdown",
      "metadata": {
        "id": "view-in-github",
        "colab_type": "text"
      },
      "source": [
        "<a href=\"https://colab.research.google.com/github/OHincapie/DataScience300/blob/main/Ejercicios/ListasYTuplas/Listas.ipynb\" target=\"_parent\"><img src=\"https://colab.research.google.com/assets/colab-badge.svg\" alt=\"Open In Colab\"/></a>"
      ]
    },
    {
      "cell_type": "markdown",
      "source": [
        "## Ejercicio 1 : Listas\n",
        "\n",
        "Tienen la siguiente lista🏀⚾⚽🥤⭐\n",
        "\n",
        "```list1 = [10, 20, [300, 400, [5000, 6000], 500], 30, 40]```\n",
        "\n",
        "Se desea obtener el siguiente output **pero** usando solo el metódo ```append```:\n",
        "\n",
        "```[10, 20, [300, 400, [5000, 6000, 7000], 500], 30, 40]```"
      ],
      "metadata": {
        "id": "m0ql6V1r7tX2"
      }
    },
    {
      "cell_type": "code",
      "source": [
        "list1 = [10, 20, [300, 400, [5000, 6000], 500], 30, 40]\n",
        "list1[2][2].append(7000)\n",
        "list1"
      ],
      "metadata": {
        "colab": {
          "base_uri": "https://localhost:8080/"
        },
        "id": "ZEKCaP9j7vj2",
        "outputId": "aff2e724-5a16-4d08-d63f-662bd2620b6d"
      },
      "execution_count": 4,
      "outputs": [
        {
          "output_type": "execute_result",
          "data": {
            "text/plain": [
              "[10, 20, [300, 400, [5000, 6000, 7000], 500], 30, 40]"
            ]
          },
          "metadata": {},
          "execution_count": 4
        }
      ]
    },
    {
      "cell_type": "markdown",
      "source": [
        "## Ejercicio 2 : Sets\n",
        "Dados los siguientes conjuntos⛹✅☁⚽✨\n",
        "\n",
        "```s1 = {10, 20, 30, 40, 50}```\n",
        "\n",
        "```s2 = {30, 40, 50, 60, 70}```\n",
        "\n",
        "1. Como es posible obtener el siguiente output con alguno de los metódos vistos para sets\n",
        "\n",
        "```{40, 50, 30}```\n",
        "\n",
        "2. Como es posible obtener el siguiente output con alguno de los metódos vistos para sets\n",
        "\n",
        "```{70, 40, 10, 50, 20, 60, 30}```\n",
        "\n",
        "3. Extraer todos los elementos de s2 que no estan en s1"
      ],
      "metadata": {
        "id": "DZXUxXrf7_tu"
      }
    },
    {
      "cell_type": "code",
      "source": [
        "s1 = {10, 20, 30, 40, 50}\n",
        "s2 = {30, 40, 50, 60, 70}\n",
        "print(s1.intersection(s2))\n",
        "print(s1.union(s2))\n",
        "print(s2.difference(s1))\n"
      ],
      "metadata": {
        "colab": {
          "base_uri": "https://localhost:8080/"
        },
        "id": "Jhj0ovPz8Eft",
        "outputId": "584dd37e-2c91-480a-a4f0-ded81e30414a"
      },
      "execution_count": 8,
      "outputs": [
        {
          "output_type": "stream",
          "name": "stdout",
          "text": [
            "{40, 50, 30}\n",
            "{70, 40, 10, 50, 20, 60, 30}\n",
            "{60, 70}\n"
          ]
        }
      ]
    },
    {
      "cell_type": "markdown",
      "source": [
        "## Ejercicio 3: Tuplas\n",
        "\n",
        "Dada la siguiente tupla✈⏰♒⛹\n",
        "\n",
        "```tupla=(10, 20, 30, 40, 50)```\n",
        "\n",
        "Responder:\n",
        "\n",
        "1. Ordenar la tupla de mayor a menor\n",
        "2. Extraer los valores de la tupla en las siguientes variables: a,b,c,d,e\n",
        "3. Ahora suponga que tiene la siguiente tupla: \n",
        "```tupla_d = (11, [22, 33], 44, 55)```\n",
        "Recordando el concepto de inmutabilidad de las tuplas, sería posible poder modificar el valor **22** por **222** o en este caso no se puede?. Justifiquen"
      ],
      "metadata": {
        "id": "pw3H94pu8i8F"
      }
    },
    {
      "cell_type": "code",
      "source": [
        "tupla=(10, 20, 30, 40, 50)\n",
        "print(tupla[::-1])\n",
        "a,b,c,d,e= tupla\n",
        "print(a,b,c,d,e)\n",
        "tupla_d = (11, [22, 33], 44, 55)\n",
        "tupla_d[1][0]=222\n",
        "tupla_d\n"
      ],
      "metadata": {
        "colab": {
          "base_uri": "https://localhost:8080/"
        },
        "id": "8gIbvA6O8rM4",
        "outputId": "c98f4e73-0e5b-476e-9db1-c4f656e76f9e"
      },
      "execution_count": 12,
      "outputs": [
        {
          "output_type": "stream",
          "name": "stdout",
          "text": [
            "(50, 40, 30, 20, 10)\n",
            "10 20 30 40 50\n"
          ]
        },
        {
          "output_type": "execute_result",
          "data": {
            "text/plain": [
              "(11, [222, 33], 44, 55)"
            ]
          },
          "metadata": {},
          "execution_count": 12
        }
      ]
    },
    {
      "cell_type": "markdown",
      "source": [
        "## Ejercicio 4: Diccionarios\n",
        "\n",
        "1. Supongan que tienen el siguiente diccionario similar a lo que se obtiene de una API ([texto del enlace](https://www.freecodecamp.org/news/what-is-an-api-in-english-please-b880a3214a82/)) \n",
        "```\n",
        "dict_david = {\n",
        "    \"clase\": {\n",
        "        \"estudiante\": {\n",
        "            \"nombre\": \"David\",\n",
        "            \"notas\": {\n",
        "                \"fisica\": 4.9,\n",
        "                \"matematicas\": 4.8\n",
        "            }\n",
        "        }\n",
        "    }\n",
        "}\n",
        "```\n",
        "\n",
        "Como se puede obtener el valor respectivo para la llave primaria ```matematicas```❗♥♨ℹ\n",
        "\n",
        "2. Con base en el siguiente diccionario, renombrar la llave primaria ciudad por ubicacion 🥱⏬⚡✉\n",
        "\n",
        "```dic_prueba = {\n",
        "  \"nombre\": \"Juan\",\n",
        "  \"edad\":25,\n",
        "  \"salario\": 8000000,\n",
        "  \"ciudad\": \"Santiago\"\n",
        "}\n",
        "```\n",
        "\n",
        "3. Obtener la llave primaria del valor minimo para el siguiente diccionario 😶🧵⚔♦\n",
        "\n",
        "```\n",
        "dicc = {\n",
        "  'Bayesiana': 4.5,\n",
        "  'Series Tiempo': 4.6,\n",
        "  'Calculo Actuarial': 4.2\n",
        "}\n",
        "```\n",
        "\n",
        "4. Con base en el siguiente diccionario✈⚔😀😼\n",
        "```\n",
        "dict_a = {\n",
        "    'e1': {'nombre': 'David', 'salario': 12000000},\n",
        "    'e2': {'nombre': 'Juan', 'salario': 7590000},\n",
        "    'e3': {'nombre': 'Amir', 'salario': 6787000}\n",
        "}\n",
        "```\n",
        "Reemplazar el valor de 7590000 de Juan por 8000000."
      ],
      "metadata": {
        "id": "muJl_tgJBKKr"
      }
    },
    {
      "cell_type": "code",
      "source": [
        "dict_david = {\n",
        " \"clase\": {\n",
        "     \"estudiante\": {\n",
        "         \"nombre\": \"David\",\n",
        "         \"notas\": {\n",
        "             \"fisica\": 4.9,\n",
        "             \"matematicas\": 4.8\n",
        "         }\n",
        "     }\n",
        " }\n",
        "}\n",
        "print('Punto 1')\n",
        "print('dict_david[\"clase\"][\"estudiante\"][\"notas\"][\"matematicas\"] = ',dict_david['clase']['estudiante']['notas']['matematicas'])"
      ],
      "metadata": {
        "colab": {
          "base_uri": "https://localhost:8080/"
        },
        "id": "MJGf9kvQBV9E",
        "outputId": "e4eebd0d-793b-4ec8-8d75-18fd34e0a49c"
      },
      "execution_count": 22,
      "outputs": [
        {
          "output_type": "stream",
          "name": "stdout",
          "text": [
            "Punto 1\n",
            "dict_david[\"clase\"][\"estudiante\"][\"notas\"][\"matematicas\"] =  4.8\n"
          ]
        }
      ]
    },
    {
      "cell_type": "code",
      "source": [
        "ejercicio2= { \"nombre\": \"Juan\",\n",
        "  \"edad\":25,\n",
        "  \"salario\": 8000000,\n",
        "  \"ciudad\": \"Santiago\"\n",
        "}\n",
        "\n",
        "ejercicio2['ubicacion'] = ejercicio2.pop('ciudad')\n",
        "print('Punto 2')\n",
        "ejercicio2"
      ],
      "metadata": {
        "colab": {
          "base_uri": "https://localhost:8080/"
        },
        "id": "iNIw-8UpB0z7",
        "outputId": "5be4314a-0b2b-43b6-f033-b19e23c54c99"
      },
      "execution_count": 28,
      "outputs": [
        {
          "output_type": "stream",
          "name": "stdout",
          "text": [
            "Punto 2\n"
          ]
        },
        {
          "output_type": "execute_result",
          "data": {
            "text/plain": [
              "{'edad': 25, 'nombre': 'Juan', 'salario': 8000000, 'ubicacion': 'Santiago'}"
            ]
          },
          "metadata": {},
          "execution_count": 28
        }
      ]
    },
    {
      "cell_type": "code",
      "source": [
        "dicc = {\n",
        "  'Bayesiana': 4.5,\n",
        "  'Series Tiempo': 4.6,\n",
        "  'Calculo Actuarial': 4.2\n",
        "}\n",
        "\n",
        "minimo=min(dicc, key= dicc.get)\n",
        "print('Punto 3 ')\n",
        "print(minimo)\n"
      ],
      "metadata": {
        "colab": {
          "base_uri": "https://localhost:8080/"
        },
        "id": "FOoiD3sqIt6Y",
        "outputId": "3495e7c4-b91a-4238-b217-5391440a81ed"
      },
      "execution_count": 37,
      "outputs": [
        {
          "output_type": "stream",
          "name": "stdout",
          "text": [
            "Punto 3 \n",
            "Calculo Actuarial\n"
          ]
        }
      ]
    },
    {
      "cell_type": "code",
      "source": [
        "dict_a = {\n",
        " 'e1': {'nombre': 'David', 'salario': 12000000},\n",
        " 'e2': {'nombre': 'Juan', 'salario': 7590000},\n",
        " 'e3': {'nombre': 'Amir', 'salario': 6787000}\n",
        "}\n",
        "dict_a['e2']['salario']= 8000000\n",
        "print(dict_a)"
      ],
      "metadata": {
        "colab": {
          "base_uri": "https://localhost:8080/"
        },
        "id": "TZr162gRKYHI",
        "outputId": "c16b62ae-d912-4f98-a265-0690a591b6a1"
      },
      "execution_count": 38,
      "outputs": [
        {
          "output_type": "stream",
          "name": "stdout",
          "text": [
            "{'e1': {'nombre': 'David', 'salario': 12000000}, 'e2': {'nombre': 'Juan', 'salario': 8000000}, 'e3': {'nombre': 'Amir', 'salario': 6787000}}\n"
          ]
        }
      ]
    },
    {
      "cell_type": "code",
      "source": [
        ""
      ],
      "metadata": {
        "id": "8qOmfqc4MNsg"
      },
      "execution_count": null,
      "outputs": []
    }
  ]
}