{
  "nbformat": 4,
  "nbformat_minor": 0,
  "metadata": {
    "colab": {
      "name": "Clase1.ipynb",
      "provenance": [],
      "collapsed_sections": [],
      "authorship_tag": "ABX9TyPu/t8tLgbKmftR6hC0lTum",
      "include_colab_link": true
    },
    "kernelspec": {
      "name": "python3",
      "display_name": "Python 3"
    },
    "language_info": {
      "name": "python"
    }
  },
  "cells": [
    {
      "cell_type": "markdown",
      "metadata": {
        "id": "view-in-github",
        "colab_type": "text"
      },
      "source": [
        "<a href=\"https://colab.research.google.com/github/OHincapie/DataScience300/blob/main/Clase1.ipynb\" target=\"_parent\"><img src=\"https://colab.research.google.com/assets/colab-badge.svg\" alt=\"Open In Colab\"/></a>"
      ]
    },
    {
      "cell_type": "code",
      "metadata": {
        "id": "7IGqzETUoW7q"
      },
      "source": [
        ""
      ],
      "execution_count": null,
      "outputs": []
    },
    {
      "cell_type": "markdown",
      "metadata": {
        "id": "UWWGNEszq5mr"
      },
      "source": [
        "**Introducción**\n",
        "\n",
        "---\n",
        "\n",
        "Para manejar un codigo limpio en Python se debe:\n",
        "1. Usar siempre minusculas.\n",
        "2. Se le pueden añadir números.\n",
        "3. Correcto nombramineto de las variables, reglas basícas.\n",
        "\n",
        "En python hay varios tipos de datos compuestos y estan disponibles por defecto en los interpretes: \n",
        "**¿De qué tipos de datos?**\n",
        "1. Numericos \n",
        "2. Secuencia\n",
        "3. Mapeo\n",
        "4. Conjuntos usados para agrupar otros valores\n",
        "\n",
        "**Constantes y variables**\n",
        "Una constante no cambia y una variable si."
      ]
    },
    {
      "cell_type": "markdown",
      "metadata": {
        "id": "1ndnAik_q-eZ"
      },
      "source": [
        ""
      ]
    },
    {
      "cell_type": "code",
      "metadata": {
        "colab": {
          "base_uri": "https://localhost:8080/"
        },
        "id": "62thYarstjJn",
        "outputId": "ab80e7ce-c6c5-4335-da2b-281a0187b608"
      },
      "source": [
        "x = int(3.678)\n",
        "print(x)"
      ],
      "execution_count": 2,
      "outputs": [
        {
          "output_type": "stream",
          "name": "stdout",
          "text": [
            "3\n"
          ]
        }
      ]
    },
    {
      "cell_type": "code",
      "metadata": {
        "colab": {
          "base_uri": "https://localhost:8080/"
        },
        "id": "7sKF5r69t1wh",
        "outputId": "63e9b8a5-9301-4e6a-ec83-1cd04b5f1aeb"
      },
      "source": [
        "y= float(15.46531)\n",
        "print(y,type(y))"
      ],
      "execution_count": 4,
      "outputs": [
        {
          "output_type": "stream",
          "name": "stdout",
          "text": [
            "15.46531 <class 'float'>\n"
          ]
        }
      ]
    },
    {
      "cell_type": "code",
      "metadata": {
        "colab": {
          "base_uri": "https://localhost:8080/"
        },
        "id": "LJzMYCqQt5gP",
        "outputId": "2160166e-2153-43bf-e24c-e0991ae42baa"
      },
      "source": [
        "portatil1={}\n",
        "portatil1['marca']='Lenovo'\n",
        "portatil1['Procesador']='Ryzen'\n",
        "portatil1['RAM']='8'\n",
        "portatil1['Almacenamiento']='1TB'\n",
        "portatil1['Precio']=700\n",
        "\n",
        "\n",
        "portatil2={}\n",
        "portatil2['marca']='DELL'\n",
        "portatil2['Procesador']='intel'\n",
        "portatil2['RAM']='8'\n",
        "portatil2['Almacenamiento']='1TB'\n",
        "portatil2['Precio']=1000\n",
        "\n",
        "portatil3={}\n",
        "portatil3['marca']='HP'\n",
        "portatil3['Procesador']='intel'\n",
        "portatil3['RAM']='4'\n",
        "portatil3['Almacenamiento']='500'\n",
        "portatil3['Precio']=500\n",
        "\n",
        "total=portatil1['Precio'] + portatil2['Precio'] + portatil3['Precio']\n",
        "total2productos=portatil1['Precio'] + portatil2['Precio']\n",
        "print(\"El porcentaje de la compra es: \",(100*total2productos)/total, \"%\")\n"
      ],
      "execution_count": 14,
      "outputs": [
        {
          "output_type": "stream",
          "name": "stdout",
          "text": [
            "El porcentaje de la compra es:  77.27272727272727 %\n"
          ]
        }
      ]
    },
    {
      "cell_type": "code",
      "metadata": {
        "id": "9vxzkdGRD99P"
      },
      "source": [
        ""
      ],
      "execution_count": null,
      "outputs": []
    }
  ]
}